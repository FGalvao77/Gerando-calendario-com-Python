{
  "nbformat": 4,
  "nbformat_minor": 0,
  "metadata": {
    "colab": {
      "name": "Gerando calendário com Python.ipynb",
      "provenance": [],
      "collapsed_sections": [],
      "authorship_tag": "ABX9TyOOWBC60t/TUIvHHuiyJGsV",
      "include_colab_link": true
    },
    "kernelspec": {
      "name": "python3",
      "display_name": "Python 3"
    },
    "language_info": {
      "name": "python"
    }
  },
  "cells": [
    {
      "cell_type": "markdown",
      "metadata": {
        "id": "view-in-github",
        "colab_type": "text"
      },
      "source": [
        "<a href=\"https://colab.research.google.com/github/FGalvao77/Gerando-calendario-com-Python/blob/main/Gerando_calend%C3%A1rio_com_Python.ipynb\" target=\"_parent\"><img src=\"https://colab.research.google.com/assets/colab-badge.svg\" alt=\"Open In Colab\"/></a>"
      ]
    },
    {
      "cell_type": "markdown",
      "source": [
        "## **Gerando calendário com `Python`**"
      ],
      "metadata": {
        "id": "BNdcKZ6DGstz"
      }
    },
    {
      "cell_type": "code",
      "execution_count": 6,
      "metadata": {
        "id": "RoTt58dvE8DM"
      },
      "outputs": [],
      "source": [
        "from calendar import*"
      ]
    },
    {
      "cell_type": "code",
      "source": [
        "year = int(input('Entre com o ano: '))\n",
        "print(calendar(year, 2, 3, 8, 4))"
      ],
      "metadata": {
        "colab": {
          "base_uri": "https://localhost:8080/"
        },
        "id": "OwPr9Fj-E_IR",
        "outputId": "4b571df1-3790-40c4-ae37-1516507002bf"
      },
      "execution_count": 7,
      "outputs": [
        {
          "output_type": "stream",
          "name": "stdout",
          "text": [
            "Entre com o ano: 2022\n",
            "                                                  2022\n",
            "\n",
            "\n",
            "\n",
            "\n",
            "\n",
            "      January                     February                     March                       April\n",
            "\n",
            "\n",
            "Mo Tu We Th Fr Sa Su        Mo Tu We Th Fr Sa Su        Mo Tu We Th Fr Sa Su        Mo Tu We Th Fr Sa Su\n",
            "\n",
            "\n",
            "                1  2            1  2  3  4  5  6            1  2  3  4  5  6                     1  2  3\n",
            "\n",
            "\n",
            " 3  4  5  6  7  8  9         7  8  9 10 11 12 13         7  8  9 10 11 12 13         4  5  6  7  8  9 10\n",
            "\n",
            "\n",
            "10 11 12 13 14 15 16        14 15 16 17 18 19 20        14 15 16 17 18 19 20        11 12 13 14 15 16 17\n",
            "\n",
            "\n",
            "17 18 19 20 21 22 23        21 22 23 24 25 26 27        21 22 23 24 25 26 27        18 19 20 21 22 23 24\n",
            "\n",
            "\n",
            "24 25 26 27 28 29 30        28                          28 29 30 31                 25 26 27 28 29 30\n",
            "\n",
            "\n",
            "31\n",
            "\n",
            "\n",
            "\n",
            "\n",
            "\n",
            "        May                         June                        July                       August\n",
            "\n",
            "\n",
            "Mo Tu We Th Fr Sa Su        Mo Tu We Th Fr Sa Su        Mo Tu We Th Fr Sa Su        Mo Tu We Th Fr Sa Su\n",
            "\n",
            "\n",
            "                   1               1  2  3  4  5                     1  2  3         1  2  3  4  5  6  7\n",
            "\n",
            "\n",
            " 2  3  4  5  6  7  8         6  7  8  9 10 11 12         4  5  6  7  8  9 10         8  9 10 11 12 13 14\n",
            "\n",
            "\n",
            " 9 10 11 12 13 14 15        13 14 15 16 17 18 19        11 12 13 14 15 16 17        15 16 17 18 19 20 21\n",
            "\n",
            "\n",
            "16 17 18 19 20 21 22        20 21 22 23 24 25 26        18 19 20 21 22 23 24        22 23 24 25 26 27 28\n",
            "\n",
            "\n",
            "23 24 25 26 27 28 29        27 28 29 30                 25 26 27 28 29 30 31        29 30 31\n",
            "\n",
            "\n",
            "30 31\n",
            "\n",
            "\n",
            "\n",
            "\n",
            "\n",
            "     September                    October                     November                    December\n",
            "\n",
            "\n",
            "Mo Tu We Th Fr Sa Su        Mo Tu We Th Fr Sa Su        Mo Tu We Th Fr Sa Su        Mo Tu We Th Fr Sa Su\n",
            "\n",
            "\n",
            "          1  2  3  4                        1  2            1  2  3  4  5  6                  1  2  3  4\n",
            "\n",
            "\n",
            " 5  6  7  8  9 10 11         3  4  5  6  7  8  9         7  8  9 10 11 12 13         5  6  7  8  9 10 11\n",
            "\n",
            "\n",
            "12 13 14 15 16 17 18        10 11 12 13 14 15 16        14 15 16 17 18 19 20        12 13 14 15 16 17 18\n",
            "\n",
            "\n",
            "19 20 21 22 23 24 25        17 18 19 20 21 22 23        21 22 23 24 25 26 27        19 20 21 22 23 24 25\n",
            "\n",
            "\n",
            "26 27 28 29 30              24 25 26 27 28 29 30        28 29 30                    26 27 28 29 30 31\n",
            "\n",
            "\n",
            "                            31\n",
            "\n",
            "\n",
            "\n"
          ]
        }
      ]
    },
    {
      "cell_type": "code",
      "source": [
        ""
      ],
      "metadata": {
        "id": "cC4-_EMUE_Fo"
      },
      "execution_count": null,
      "outputs": []
    },
    {
      "cell_type": "code",
      "source": [
        ""
      ],
      "metadata": {
        "id": "DfI_KG8TE_Cg"
      },
      "execution_count": null,
      "outputs": []
    }
  ]
}